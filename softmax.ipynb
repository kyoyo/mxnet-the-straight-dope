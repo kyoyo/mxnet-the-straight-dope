{
 "cells": [
  {
   "cell_type": "markdown",
   "metadata": {},
   "source": [
    "# Softmax函数\n",
    "\n",
    "[详细说明](https://zhuanlan.zhihu.com/p/25723112)\n",
    "\n",
    "$\\Large{S_i = \\frac{e^i}{\\sum_{j}e^j} }$\n",
    "\n",
    "i 表示第i个元素， i = 1....j\n",
    "\n",
    "它将多个神经元的输出，映射到（0,1）区间内，可以看成概率来理解，从而来进行多分类！\n",
    "\n",
    "二元分类就是只有一个概率为1，其它概率都是0\n",
    "\n"
   ]
  },
  {
   "cell_type": "markdown",
   "metadata": {},
   "source": [
    "# 交叉熵损失函数\n",
    "\n",
    "\n",
    "$\\Large{Loss = -\\sum_{i}y_ilna_i}$\n",
    "\n",
    "其中y代表我们的真实值，a代表我们softmax求出的值。i代表的是输出结点的标号\n",
    "\n",
    "其中$y_i = 1 $,那么形式变为$Loss = -lna_i$\n",
    "\n",
    "<img src=\"img/softmax1.jpg\" width=\"300px\" height=\"300px\" />\n",
    "\n",
    "z4 = w41*o1+w42*o2+w43*o3\n",
    "\n",
    "z5 = w51*o1+w52*o2+w53*o3\n",
    "\n",
    "z6 = w61*o1+w62*o2+w63*o3\n",
    "\n",
    "z4,z5,z6分别代表结点4,5,6的输出，01,02,03代表是结点1,2,3往后传的输入.\n",
    "\n",
    "求导分析如下：\n",
    "\n",
    "参数的形式在该例子中，总共分为w41,w42,w43,w51,w52,w53,w61,w62,w63.这些，那么比如我要求出w41,w42,w43的偏导，就需要将Loss函数求偏导传到结点4，然后再利用链式法则继续求导即可，举个例子此时求w41的偏导为:\n",
    "\n",
    "\n",
    "$ \\Large{\\frac {\\partial Loss}{\\partial w41} \n",
    "= \\frac {\\partial Loss}{\\partial a4} \\cdot \\frac {\\partial a4}{\\partial z4} \\cdot \\frac {\\partial z4}{\\partial w41} } \n",
    "= -\\frac{1}{a4} \\cdot  \\frac {\\partial a4}{\\partial z4} \\cdot o1\n",
    "$\n",
    "\n",
    "关键求出 $ \\Large{\\frac {\\partial a4}{\\partial z4}} $\n",
    "\n",
    "w51.....w63等参数的偏导同理可以求出，那么我们的关键就在于Loss函数对于结点4,5,6的偏导怎么求，如下：\n",
    "\n",
    "这里分为俩种情况："
   ]
  },
  {
   "cell_type": "markdown",
   "metadata": {},
   "source": [
    "if j = i\n",
    "\n",
    " $\\Large{ \n",
    " \\frac {\\partial a_j}{\\partial z_i} \n",
    " = \\frac {\\partial \\frac{e^{z_j}}{\\sum_{k}e^{z_k}} }{\\partial z_i}  \n",
    " = \\frac {(e^{z_j})' \\cdot \\sum_{k}e^{z_k} - e^{z_j} \\cdot e^{z_j} }{(\\sum_{k}e^{z_k})^2}\n",
    " =  \\frac{e^{z_j}}{\\sum_{k}e^{z_k}} -  \\frac{e^{z_j}}{\\sum_{k}e^{z_k}} \\cdot  \\frac{e^{z_j}}{\\sum_{k}e^{z_k}}\n",
    " = a_j (1- a_j)\n",
    " }$\n",
    " \n",
    "  $e^{z_i} $第i个的概率为1，由于 j = i ,  $e^{z_i} = e^{z_j} $\n",
    "  \n",
    "  \n",
    " $ \\Large{\\frac {\\partial Loss}{\\partial w_{i}} \n",
    "= -\\frac{1}{a_{j}} \\cdot  a_j (1- a_j) \\cdot o_{i}\n",
    "= (a_j - 1) \\cdot o_{i}\n",
    "}$\n",
    "\n",
    " if $ j \\neq i$\n",
    " \n",
    "  $\\Large{ \n",
    " \\frac {\\partial a_j}{\\partial z_i} \n",
    " = \\frac {\\partial \\frac{e^{z_j}}{\\sum_{k}e^{z_k}} }{\\partial z_i}  \n",
    " = \\frac {0 \\cdot \\sum_{k}e^{z_k} - e^{z_i} \\cdot e^{z_j} }{(\\sum_{k}e^{z_k})^2}\n",
    " =   -  \\frac{e^{z_i}}{\\sum_{k}e^{z_k}} \\cdot  \\frac{e^{z_j}}{\\sum_{k}e^{z_k}}\n",
    " = -a_j a_i \n",
    " }$\n",
    " \n",
    " $e^{z_j} 为常数，所以(e^{z_j})' = 0 $\n",
    " \n",
    " \n",
    "  $ \\Large{\\frac {\\partial Loss}{\\partial w_{i}} \n",
    "= -\\frac{1}{a_{j}} \\cdot  -a_j a_i \\cdot o_{i}\n",
    "= a_i \\cdot o_{i}\n",
    "}$"
   ]
  },
  {
   "cell_type": "code",
   "execution_count": 14,
   "metadata": {},
   "outputs": [
    {
     "data": {
      "image/png": "[encoded data removed]",
      "text/plain": [
       "<matplotlib.figure.Figure at 0x890f828>"
      ]
     },
     "metadata": {},
     "output_type": "display_data"
    }
   ],
   "source": [
    "import numpy as np\n",
    "import matplotlib.pyplot as plt\n",
    "\n",
    "def f(x):\n",
    "    return x  *  x  - 2 * x + 1\n",
    "\n",
    "def g(x):\n",
    "    return 2 * x -2\n",
    "\n",
    "def gd(x_start, step, g):   # gd代表了Gradient Descent\n",
    "    x = x_start\n",
    "    for i in range(20):\n",
    "        grad = g(x)\n",
    "        x -= grad * step\n",
    "        print( '[ Epoch {0} ] grad = {1}, x = {2}'.format(i, grad, x))\n",
    "        if abs(grad) < 1e-6:\n",
    "            break;\n",
    "    return x\n",
    "\n",
    "x = np.linspace(-5,7,100)\n",
    "y = f(x)\n",
    "plt.plot(x,y)\n",
    "plt.scatter(1,0,c='r')\n",
    "plt.show()\n"
   ]
  },
  {
   "cell_type": "code",
   "execution_count": 29,
   "metadata": {},
   "outputs": [
    {
     "name": "stdout",
     "output_type": "stream",
     "text": [
      "[ Epoch 0 ] grad = 8, x = 4.2\n",
      "[ Epoch 1 ] grad = 6.4, x = 3.56\n",
      "[ Epoch 2 ] grad = 5.12, x = 3.048\n",
      "[ Epoch 3 ] grad = 4.096, x = 2.6384\n",
      "[ Epoch 4 ] grad = 3.2767999999999997, x = 2.31072\n",
      "[ Epoch 5 ] grad = 2.6214399999999998, x = 2.0485759999999997\n",
      "[ Epoch 6 ] grad = 2.0971519999999995, x = 1.8388607999999997\n",
      "[ Epoch 7 ] grad = 1.6777215999999995, x = 1.6710886399999998\n",
      "[ Epoch 8 ] grad = 1.3421772799999996, x = 1.536870912\n",
      "[ Epoch 9 ] grad = 1.0737418239999998, x = 1.4294967295999998\n",
      "[ Epoch 10 ] grad = 0.8589934591999997, x = 1.34359738368\n",
      "[ Epoch 11 ] grad = 0.6871947673599998, x = 1.274877906944\n",
      "[ Epoch 12 ] grad = 0.5497558138879999, x = 1.2199023255552\n",
      "[ Epoch 13 ] grad = 0.4398046511103999, x = 1.17592186044416\n",
      "[ Epoch 14 ] grad = 0.35184372088831983, x = 1.1407374883553278\n",
      "[ Epoch 15 ] grad = 0.2814749767106557, x = 1.1125899906842622\n",
      "[ Epoch 16 ] grad = 0.22517998136852446, x = 1.0900719925474098\n",
      "[ Epoch 17 ] grad = 0.18014398509481966, x = 1.0720575940379278\n",
      "[ Epoch 18 ] grad = 0.14411518807585555, x = 1.0576460752303423\n",
      "[ Epoch 19 ] grad = 0.11529215046068453, x = 1.0461168601842739\n"
     ]
    },
    {
     "data": {
      "text/plain": [
       "1.0461168601842739"
      ]
     },
     "execution_count": 29,
     "metadata": {},
     "output_type": "execute_result"
    }
   ],
   "source": [
    "gd(5,0.1,g)"
   ]
  },
  {
   "cell_type": "code",
   "execution_count": null,
   "metadata": {
    "collapsed": true
   },
   "outputs": [],
   "source": []
  }
 ],
 "metadata": {
  "kernelspec": {
   "display_name": "Python 3",
   "language": "python",
   "name": "python3"
  },
  "language_info": {
   "codemirror_mode": {
    "name": "ipython",
    "version": 3
   },
   "file_extension": ".py",
   "mimetype": "text/x-python",
   "name": "python",
   "nbconvert_exporter": "python",
   "pygments_lexer": "ipython3",
   "version": "3.6.3"
  }
 },
 "nbformat": 4,
 "nbformat_minor": 2
}
