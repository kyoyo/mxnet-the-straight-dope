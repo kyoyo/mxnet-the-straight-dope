{
 "cells": [
  {
   "cell_type": "code",
   "execution_count": 2,
   "metadata": {},
   "outputs": [
    {
     "name": "stdout",
     "output_type": "stream",
     "text": [
      "<class 'ImagingCore'>\n",
      "<class 'numpy.matrixlib.defmatrix.matrix'>\n"
     ]
    }
   ],
   "source": [
    "import numpy as np\n",
    "from PIL import Image\n",
    "import matplotlib.pyplot as plt\n",
    "\n",
    "\n",
    "def ImageToMatrix(filename):\n",
    "    im = Image.open(filename)\n",
    "    width,height = im.size\n",
    "    #1，L，P，RGB，RGBA，CMYK，YCbCr，I，F 有九种不同模式\n",
    "    im = im.convert(\"F\")\n",
    "    data = im.getdata()\n",
    "    print(type(data))\n",
    "    data = np.matrix(data,dtype='float')/255.0\n",
    "    new_data = np.reshape(data,(width,height))\n",
    "    \n",
    "    return new_data\n",
    "\n",
    "def MatrixToImage(data):\n",
    "    data = data * 255\n",
    "    new_im = Image.fromarray(data.astype(np.uint8))\n",
    "    \n",
    "    return new_im\n",
    "\n",
    "filename = \"../img/cat.jpg\"\n",
    "data = ImageToMatrix(filename)\n",
    "print(type(data))\n",
    "\n",
    "\n",
    "new_im = MatrixToImage(data)\n",
    "#plt.imshow(data, cmap=plt.cm.gray, interpolation='nearest')\n",
    "#new_im.show()"
   ]
  },
  {
   "cell_type": "code",
   "execution_count": 3,
   "metadata": {},
   "outputs": [
    {
     "name": "stdout",
     "output_type": "stream",
     "text": [
      "(100, 100)\n"
     ]
    }
   ],
   "source": [
    "narray = np.array([range(10000)],dtype='int')\n",
    "narray = narray.reshape([100,100])\n",
    "\n",
    "'''\n",
    "narray =np.array([\n",
    "[0,0,0,0,0,0,0,0,0,0],\n",
    "[0,0,0,0,255,0,0,0,0,0],\n",
    "[0,0,0,0,255,0,0,0,0,0],\n",
    "[0,0,0,0,255,0,0,0,0,0],\n",
    "[0,0,0,255,255,255,0,0,0,0],\n",
    "[0,0,255,0,0,0,255,0,0,0],\n",
    "[0,255,0,0,0,0,0,255,0,0],\n",
    "[0,0,0,0,0,0,0,0,0,0],\n",
    "[0,0,0,0,0,0,0,0,0,0],\n",
    "[0,0,0,0,0,0,0,0,0,0]\n",
    "])\n",
    "'''\n",
    "\n",
    "img = Image.fromarray(narray * 255/9999)\n",
    "img = img.convert(\"L\")\n",
    "img.show()\n",
    "\n",
    "imgdata = np.matrix(img.getdata(),dtype= 'float')\n",
    "imgdata = imgdata.reshape(narray.shape[0],narray.shape[1])\n",
    "print(imgdata.shape)"
   ]
  },
  {
   "cell_type": "code",
   "execution_count": 11,
   "metadata": {},
   "outputs": [
    {
     "name": "stdout",
     "output_type": "stream",
     "text": [
      "(10, 10)\n"
     ]
    },
    {
     "data": {
      "image/png": "[encoded data removed]",
      "text/plain": [
       "<matplotlib.figure.Figure at 0x64c86d8>"
      ]
     },
     "metadata": {},
     "output_type": "display_data"
    }
   ],
   "source": [
    "import matplotlib.pyplot as plt\n",
    "\n",
    "narray =np.array([\n",
    "[0,0,0,0,0,0,0,0,0,0],\n",
    "[0,0,0,0,0,0,0,0,0,0],\n",
    "[0,0,0,0,255,0,0,0,0,0],\n",
    "[0,0,0,0,255,0,0,0,0,0],\n",
    "[0,0,0,255,255,255,0,0,0,0],\n",
    "[0,0,255,0,0,0,255,0,0,0],\n",
    "[0,255,0,0,0,0,0,255,0,0],\n",
    "[0,0,0,0,0,0,0,0,0,0],\n",
    "[0,0,0,0,0,0,0,0,0,0],\n",
    "[0,0,0,0,0,0,0,0,0,0]\n",
    "])\n",
    "#narray = np.tile(narray,(1,1,3))\n",
    "print(narray.shape)\n",
    "plt.imshow(narray)\n",
    "plt.show()"
   ]
  },
  {
   "cell_type": "code",
   "execution_count": null,
   "metadata": {
    "collapsed": true
   },
   "outputs": [],
   "source": []
  }
 ],
 "metadata": {
  "kernelspec": {
   "display_name": "Python 3",
   "language": "python",
   "name": "python3"
  },
  "language_info": {
   "codemirror_mode": {
    "name": "ipython",
    "version": 3
   },
   "file_extension": ".py",
   "mimetype": "text/x-python",
   "name": "python",
   "nbconvert_exporter": "python",
   "pygments_lexer": "ipython3",
   "version": "3.6.3"
  }
 },
 "nbformat": 4,
 "nbformat_minor": 2
}
