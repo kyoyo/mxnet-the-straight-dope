{
 "cells": [
  {
   "cell_type": "code",
   "execution_count": 2,
   "metadata": {
    "collapsed": true
   },
   "outputs": [],
   "source": [
    "import mxnet as mx\n",
    "from mxnet import nd, autograd\n",
    "import matplotlib.pyplot as plt\n",
    "import numpy as np\n",
    "mx.random.seed(1)\n",
    "\n",
    "dimensions =(3,4)\n",
    "wfake = nd.random_normal(shape=(dimensions))   # fake weight vector for separation\n",
    "bfake = nd.random_normal(shape=(1))            # fake bias\n",
    "wfake = wfake / nd.norm(wfake)              "
   ]
  },
  {
   "cell_type": "markdown",
   "metadata": {},
   "source": [
    "# meshgrid用法 "
   ]
  },
  {
   "cell_type": "code",
   "execution_count": 25,
   "metadata": {},
   "outputs": [
    {
     "name": "stdout",
     "output_type": "stream",
     "text": [
      "[ 0.    0.25  0.5   0.75  1.  ]\n",
      "[ 0.   0.5  1. ]\n",
      "X------\n",
      "[[ 0.    0.25  0.5   0.75  1.  ]\n",
      " [ 0.    0.25  0.5   0.75  1.  ]\n",
      " [ 0.    0.25  0.5   0.75  1.  ]]\n",
      "Y------\n",
      "[[ 0.   0.   0.   0.   0. ]\n",
      " [ 0.5  0.5  0.5  0.5  0.5]\n",
      " [ 1.   1.   1.   1.   1. ]]\n",
      "(3, 5)\n",
      "(3, 5)\n"
     ]
    }
   ],
   "source": [
    "m,n=(5,3)\n",
    "x = np.linspace(0,1,m)\n",
    "y = np.linspace(0,1,n)\n",
    "\n",
    "X,Y = np.meshgrid(x,y)\n",
    "print(x)\n",
    "print(y)\n",
    "\n",
    "#X 构造行，Y构造列\n",
    "print('X------')\n",
    "print(X)\n",
    "\n",
    "print('Y------')\n",
    "print(Y)\n",
    "\n",
    "print(X.shape)\n",
    "print(Y.shape)"
   ]
  },
  {
   "cell_type": "code",
   "execution_count": 38,
   "metadata": {},
   "outputs": [
    {
     "name": "stdout",
     "output_type": "stream",
     "text": [
      "[(0.0, 0.0), (0.25, 0.0), (0.5, 0.0), (0.75, 0.0), (1.0, 0.0), (0.0, 0.5), (0.25, 0.5), (0.5, 0.5), (0.75, 0.5), (1.0, 0.5), (0.0, 1.0), (0.25, 1.0), (0.5, 1.0), (0.75, 1.0), (1.0, 1.0)]\n"
     ]
    },
    {
     "data": {
      "image/png": "[encoded data removed]",
      "text/plain": [
       "<matplotlib.figure.Figure at 0x10494f60>"
      ]
     },
     "metadata": {},
     "output_type": "display_data"
    }
   ],
   "source": [
    "import matplotlib.pyplot as plt\n",
    "\n",
    "z = [i for i in zip(X.flat,Y.flat)]\n",
    "print(z)\n",
    "\n",
    "\n",
    "\n",
    "plt.plot(X,Y,marker='.',linestyle='none')\n",
    "plt.show()"
   ]
  },
  {
   "cell_type": "code",
   "execution_count": 10,
   "metadata": {},
   "outputs": [
    {
     "name": "stdout",
     "output_type": "stream",
     "text": [
      "[ 0.   0.3  0.6  0.9]\n"
     ]
    }
   ],
   "source": [
    "x1 = np.arange(0,1,0.3)\n",
    "print(x1)"
   ]
  },
  {
   "cell_type": "code",
   "execution_count": 43,
   "metadata": {},
   "outputs": [
    {
     "name": "stdout",
     "output_type": "stream",
     "text": [
      "[[-3 -2 -1  0  1  2]\n",
      " [-3 -2 -1  0  1  2]\n",
      " [-3 -2 -1  0  1  2]\n",
      " [-3 -2 -1  0  1  2]\n",
      " [-3 -2 -1  0  1  2]\n",
      " [-3 -2 -1  0  1  2]] [[-3 -3 -3 -3 -3 -3]\n",
      " [-2 -2 -2 -2 -2 -2]\n",
      " [-1 -1 -1 -1 -1 -1]\n",
      " [ 0  0  0  0  0  0]\n",
      " [ 1  1  1  1  1  1]\n",
      " [ 2  2  2  2  2  2]]\n",
      "(6, 6) (6, 6)\n",
      "\n",
      "[[[-3. -3.]\n",
      "  [-2. -3.]\n",
      "  [-1. -3.]\n",
      "  [ 0. -3.]\n",
      "  [ 1. -3.]\n",
      "  [ 2. -3.]]\n",
      "\n",
      " [[-3. -2.]\n",
      "  [-2. -2.]\n",
      "  [-1. -2.]\n",
      "  [ 0. -2.]\n",
      "  [ 1. -2.]\n",
      "  [ 2. -2.]]\n",
      "\n",
      " [[-3. -1.]\n",
      "  [-2. -1.]\n",
      "  [-1. -1.]\n",
      "  [ 0. -1.]\n",
      "  [ 1. -1.]\n",
      "  [ 2. -1.]]\n",
      "\n",
      " [[-3.  0.]\n",
      "  [-2.  0.]\n",
      "  [-1.  0.]\n",
      "  [ 0.  0.]\n",
      "  [ 1.  0.]\n",
      "  [ 2.  0.]]\n",
      "\n",
      " [[-3.  1.]\n",
      "  [-2.  1.]\n",
      "  [-1.  1.]\n",
      "  [ 0.  1.]\n",
      "  [ 1.  1.]\n",
      "  [ 2.  1.]]\n",
      "\n",
      " [[-3.  2.]\n",
      "  [-2.  2.]\n",
      "  [-1.  2.]\n",
      "  [ 0.  2.]\n",
      "  [ 1.  2.]\n",
      "  [ 2.  2.]]]\n",
      "<NDArray 6x6x2 @cpu(0)>\n"
     ]
    }
   ],
   "source": [
    "    xgrid = np.arange(-3, 3, 1)\n",
    "    ygrid = np.arange(-3, 3, 1)\n",
    "    xx, yy = np.meshgrid(xgrid, ygrid)\n",
    "    print(xx,yy)\n",
    "    print(xx.shape,yy.shape)\n",
    "    zz = nd.zeros(shape=(xgrid.size, ygrid.size, 2))\n",
    "    zz[:,:,0] = nd.array(xx)\n",
    "    zz[:,:,1] = nd.array(yy)\n",
    "    \n",
    "    print(zz)"
   ]
  },
  {
   "cell_type": "code",
   "execution_count": null,
   "metadata": {
    "collapsed": true
   },
   "outputs": [],
   "source": []
  },
  {
   "cell_type": "code",
   "execution_count": null,
   "metadata": {
    "collapsed": true
   },
   "outputs": [],
   "source": []
  }
 ],
 "metadata": {
  "kernelspec": {
   "display_name": "Python 3",
   "language": "python",
   "name": "python3"
  },
  "language_info": {
   "codemirror_mode": {
    "name": "ipython",
    "version": 3
   },
   "file_extension": ".py",
   "mimetype": "text/x-python",
   "name": "python",
   "nbconvert_exporter": "python",
   "pygments_lexer": "ipython3",
   "version": "3.6.3"
  }
 },
 "nbformat": 4,
 "nbformat_minor": 2
}
