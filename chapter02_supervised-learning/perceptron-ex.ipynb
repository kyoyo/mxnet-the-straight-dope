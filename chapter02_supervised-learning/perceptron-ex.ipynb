{
 "cells": [
  {
   "cell_type": "code",
   "execution_count": 2,
   "metadata": {},
   "outputs": [],
   "source": [
    "import mxnet as mx\n",
    "from mxnet import nd, autograd\n",
    "import matplotlib.pyplot as plt\n",
    "import numpy as np\n",
    "mx.random.seed(1)\n",
    "\n",
    "dimensions =(3,4)\n",
    "wfake = nd.random_normal(shape=(dimensions))   # fake weight vector for separation\n",
    "bfake = nd.random_normal(shape=(1))            # fake bias\n",
    "wfake = wfake / nd.norm(wfake)              "
   ]
  },
  {
   "cell_type": "code",
   "execution_count": null,
   "metadata": {
    "collapsed": true
   },
   "outputs": [],
   "source": []
  }
 ],
 "metadata": {
  "kernelspec": {
   "display_name": "Python 3",
   "language": "python",
   "name": "python3"
  },
  "language_info": {
   "codemirror_mode": {
    "name": "ipython",
    "version": 3
   },
   "file_extension": ".py",
   "mimetype": "text/x-python",
   "name": "python",
   "nbconvert_exporter": "python",
   "pygments_lexer": "ipython3",
   "version": "3.6.3"
  }
 },
 "nbformat": 4,
 "nbformat_minor": 2
}
