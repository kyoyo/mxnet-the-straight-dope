{
 "cells": [
  {
   "cell_type": "markdown",
   "metadata": {},
   "source": [
    "# The MNIST dataset"
   ]
  },
  {
   "cell_type": "code",
   "execution_count": 3,
   "metadata": {
    "collapsed": true
   },
   "outputs": [],
   "source": [
    "import mxnet as mx\n",
    "from mxnet import nd,autograd\n",
    "import numpy as np\n",
    "\n",
    "import matplotlib.pyplot as plt\n",
    "\n",
    "ctx = mx.cpu()\n",
    "\n",
    "def transform(data,label):\n",
    "    return data.astype(np.float32)/255, label.astype(np.float32)\n",
    "\n",
    "mnist_train = mx.gluon.data.vision.MNIST(train=True)\n",
    "mnist_test = mx.gluon.data.vision.MNIST(train=False, transform=transform)"
   ]
  },
  {
   "cell_type": "markdown",
   "metadata": {},
   "source": [
    "# Load the data iterator"
   ]
  },
  {
   "cell_type": "code",
   "execution_count": 4,
   "metadata": {},
   "outputs": [
    {
     "name": "stdout",
     "output_type": "stream",
     "text": [
      "(28, 28, 1)\n"
     ]
    },
    {
     "data": {
      "image/png": "[encoded data removed]",
      "text/plain": [
       "<matplotlib.figure.Figure at 0x49ca828>"
      ]
     },
     "metadata": {},
     "output_type": "display_data"
    },
    {
     "data": {
      "text/plain": [
       "'\\nfor data,label in enumerate(train_data):\\n    print(data,label)\\n    break\\n'"
      ]
     },
     "execution_count": 4,
     "metadata": {},
     "output_type": "execute_result"
    }
   ],
   "source": [
    "num_inputs = 784\n",
    "num_outputs = 10\n",
    "\n",
    "image,label = mnist_train[0]\n",
    "#print(image.shape,label)\n",
    "#print(type(image))\n",
    "print(image.shape)\n",
    "\n",
    "import matplotlib.pyplot as plt\n",
    "\n",
    "#tile:Repeats the whole array multiple times.\n",
    "image = mx.nd.tile(image,(1,1,3))\n",
    "plt.imshow(image.asnumpy())\n",
    "plt.show()\n",
    "\n",
    "batch_size = 64\n",
    "\n",
    "train_data = mx.gluon.data.DataLoader(mnist_train,batch_size=batch_size,shuffle=True)\n",
    "test_data = mx.gluon.data.DataLoader(mnist_test,batch_size= batch_size,shuffle=False)\n",
    "\n",
    "'''\n",
    "for data,label in enumerate(train_data):\n",
    "    print(data,label)\n",
    "    break\n",
    "'''\n",
    "\n",
    "    "
   ]
  },
  {
   "cell_type": "markdown",
   "metadata": {},
   "source": [
    "# allocate model parameter"
   ]
  },
  {
   "cell_type": "code",
   "execution_count": 5,
   "metadata": {
    "collapsed": true
   },
   "outputs": [],
   "source": [
    "W = nd.random_normal(shape=(num_inputs,num_outputs),ctx=ctx)\n",
    "b = nd.random_normal(shape=num_outputs,ctx=ctx)\n",
    "\n",
    "params = [W,b]\n",
    "\n",
    "for param in params:\n",
    "    param.attach_grad()"
   ]
  },
  {
   "cell_type": "markdown",
   "metadata": {},
   "source": [
    "# Multiclass logistic regression"
   ]
  },
  {
   "cell_type": "code",
   "execution_count": 61,
   "metadata": {},
   "outputs": [
    {
     "name": "stdout",
     "output_type": "stream",
     "text": [
      "\n",
      "[[ 0.12113969  0.07064492  0.01608945  0.02748089  0.24389938  0.1270262\n",
      "   0.17320405  0.0181939   0.03753353  0.16478802]\n",
      " [ 0.33536705  0.05266357  0.06890295  0.12002964  0.07864172  0.0466875\n",
      "   0.04330213  0.05244924  0.06659903  0.13535717]]\n",
      "<NDArray 2x10 @cpu(0)>\n",
      "\n",
      "[ 1.  1.]\n",
      "<NDArray 2 @cpu(0)>\n"
     ]
    }
   ],
   "source": [
    "def softmax(y_linear):\n",
    "    exp = nd.exp(y_linear - nd.max(y_linear))\n",
    "    norms = nd.sum(exp,axis=0,exclude=True).reshape((-1,1))\n",
    "    return exp / norms\n",
    "\n",
    "sample_y_linear = nd.random_normal(shape=(2,10))\n",
    "sample_y_that = softmax(sample_y_linear)\n",
    "print(sample_y_that)\n",
    "\n",
    "print(nd.sum(sample_y_that,axis=1))"
   ]
  },
  {
   "cell_type": "code",
   "execution_count": 59,
   "metadata": {},
   "outputs": [
    {
     "name": "stdout",
     "output_type": "stream",
     "text": [
      "\n",
      "[[ 0.  1.  2.]\n",
      " [ 3.  4.  5.]]\n",
      "<NDArray 2x3 @cpu(0)>\n",
      "\n",
      "[ 3.  5.  7.]\n",
      "<NDArray 3 @cpu(0)>\n"
     ]
    },
    {
     "data": {
      "text/plain": [
       "\n",
       "[[  3.]\n",
       " [ 12.]]\n",
       "<NDArray 2x1 @cpu(0)>"
      ]
     },
     "execution_count": 59,
     "metadata": {},
     "output_type": "execute_result"
    }
   ],
   "source": [
    "#sum ex\n",
    "ndarray = nd.arange(6).reshape((2,3))\n",
    "print(ndarray)\n",
    "\n",
    "print(nd.sum(ndarray,axis=0))\n",
    "\n",
    "#nd.sum(ndarray,axis=1).reshape((-1,1))\n",
    "# exclude 让 axis =1变成 axis =0\n",
    "nd.sum(ndarray,axis=0,exclude=True).reshape((-1,1))"
   ]
  },
  {
   "cell_type": "markdown",
   "metadata": {},
   "source": [
    "# Define the model"
   ]
  },
  {
   "cell_type": "code",
   "execution_count": 56,
   "metadata": {},
   "outputs": [],
   "source": [
    "def net(X):\n",
    "    y_linear = nd.dot(X,W) + b\n",
    "    yhat = softmax(y_linear)\n",
    "    \n",
    "    return yhat"
   ]
  },
  {
   "cell_type": "markdown",
   "metadata": {},
   "source": [
    "# Define the cross-entropy function\n",
    "\n",
    "[关于交叉熵的详细讲解](http://blog.csdn.net/rtygbwwwerr/article/details/50778098)"
   ]
  },
  {
   "cell_type": "code",
   "execution_count": 62,
   "metadata": {
    "collapsed": true
   },
   "outputs": [],
   "source": [
    "\n",
    "def crosss_entroy(yhat,y):\n",
    "    retrun -nd.sum(y * nd.log(yhat),axis=0,exclude=True)\n"
   ]
  },
  {
   "cell_type": "markdown",
   "metadata": {},
   "source": [
    "# Optimizer"
   ]
  },
  {
   "cell_type": "code",
   "execution_count": 76,
   "metadata": {
    "collapsed": true
   },
   "outputs": [],
   "source": [
    "def SGD(params,lr):\n",
    "    for param in params:\n",
    "        param[:] = param - lr * param.grad"
   ]
  },
  {
   "cell_type": "markdown",
   "metadata": {},
   "source": [
    "# Write the evaluation loop to calculate accuracy "
   ]
  },
  {
   "cell_type": "code",
   "execution_count": null,
   "metadata": {
    "collapsed": true
   },
   "outputs": [],
   "source": []
  },
  {
   "cell_type": "markdown",
   "metadata": {},
   "source": [
    "# Execute training loop"
   ]
  },
  {
   "cell_type": "code",
   "execution_count": null,
   "metadata": {
    "collapsed": true
   },
   "outputs": [],
   "source": []
  },
  {
   "cell_type": "markdown",
   "metadata": {},
   "source": [
    "# Using the model for prediction "
   ]
  },
  {
   "cell_type": "code",
   "execution_count": null,
   "metadata": {
    "collapsed": true
   },
   "outputs": [],
   "source": []
  }
 ],
 "metadata": {
  "kernelspec": {
   "display_name": "Python 3",
   "language": "python",
   "name": "python3"
  },
  "language_info": {
   "codemirror_mode": {
    "name": "ipython",
    "version": 3
   },
   "file_extension": ".py",
   "mimetype": "text/x-python",
   "name": "python",
   "nbconvert_exporter": "python",
   "pygments_lexer": "ipython3",
   "version": "3.6.3"
  }
 },
 "nbformat": 4,
 "nbformat_minor": 2
}
