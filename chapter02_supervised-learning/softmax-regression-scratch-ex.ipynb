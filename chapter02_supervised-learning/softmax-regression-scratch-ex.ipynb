{
 "cells": [
  {
   "cell_type": "markdown",
   "metadata": {},
   "source": [
    "# The MNIST dataset"
   ]
  },
  {
   "cell_type": "code",
   "execution_count": 171,
   "metadata": {
    "collapsed": true
   },
   "outputs": [],
   "source": [
    "import mxnet as mx\n",
    "from mxnet import nd,autograd\n",
    "import numpy as np\n",
    "\n",
    "import matplotlib.pyplot as plt\n",
    "\n",
    "ctx = mx.cpu()\n",
    "\n",
    "def transform(data,label):\n",
    "    return data.astype(np.float32)/255, label.astype(np.float32)\n",
    "\n",
    "mnist_train = mx.gluon.data.vision.MNIST(train=True, transform=transform)\n",
    "mnist_test = mx.gluon.data.vision.MNIST(train=False, transform=transform)"
   ]
  },
  {
   "cell_type": "markdown",
   "metadata": {},
   "source": [
    "# Load the data iterator"
   ]
  },
  {
   "cell_type": "code",
   "execution_count": 172,
   "metadata": {},
   "outputs": [
    {
     "name": "stdout",
     "output_type": "stream",
     "text": [
      "(28, 28, 1)\n"
     ]
    },
    {
     "data": {
      "image/png": "[encoded data removed]",
      "text/plain": [
       "<matplotlib.figure.Figure at 0x13bddd30>"
      ]
     },
     "metadata": {},
     "output_type": "display_data"
    },
    {
     "name": "stdout",
     "output_type": "stream",
     "text": [
      "(64, 28, 28, 1)\n",
      "(64, 784)\n",
      "(64,)\n"
     ]
    }
   ],
   "source": [
    "num_inputs = 784\n",
    "num_outputs = 10\n",
    "\n",
    "image,label = mnist_train[0]\n",
    "#print(image.shape,label)\n",
    "#print(type(image))\n",
    "print(image.shape)\n",
    "\n",
    "import matplotlib.pyplot as plt\n",
    "\n",
    "#tile:Repeats the whole array multiple times.\n",
    "image = mx.nd.tile(image,(1,1,3))\n",
    "plt.imshow(image.asnumpy())\n",
    "plt.show()\n",
    "\n",
    "batch_size = 64\n",
    "\n",
    "train_data = mx.gluon.data.DataLoader(mnist_train,batch_size,shuffle=True)\n",
    "test_data = mx.gluon.data.DataLoader(mnist_test,batch_size,shuffle=False)\n",
    "\n",
    "\n",
    "for i,(data,label) in enumerate(train_data):\n",
    "    print(data.shape)\n",
    "    print(data.reshape((-1,784)).shape)\n",
    "    print(label.shape)\n",
    "    break\n",
    "\n",
    "\n",
    "    "
   ]
  },
  {
   "cell_type": "markdown",
   "metadata": {},
   "source": [
    "# allocate model parameter"
   ]
  },
  {
   "cell_type": "code",
   "execution_count": 173,
   "metadata": {},
   "outputs": [
    {
     "name": "stdout",
     "output_type": "stream",
     "text": [
      "(784, 10)\n",
      "(10,)\n"
     ]
    }
   ],
   "source": [
    "W = nd.random_normal(shape=(num_inputs,num_outputs),ctx=ctx)\n",
    "b = nd.random_normal(shape=num_outputs,ctx=ctx)\n",
    "\n",
    "params = [W,b]\n",
    "\n",
    "print(W.shape)\n",
    "print(b.shape)\n",
    "\n",
    "for param in params:\n",
    "    param.attach_grad()"
   ]
  },
  {
   "cell_type": "markdown",
   "metadata": {},
   "source": [
    "# Multiclass logistic regression"
   ]
  },
  {
   "cell_type": "code",
   "execution_count": 174,
   "metadata": {},
   "outputs": [
    {
     "name": "stdout",
     "output_type": "stream",
     "text": [
      "\n",
      "[[ 0.38545385  0.01461213  0.21097301  0.09367403  0.06165106  0.03282055\n",
      "   0.05355271  0.01129622  0.04906066  0.08690578]\n",
      " [ 0.01336424  0.1757054   0.03210324  0.00211555  0.06595064  0.53959328\n",
      "   0.06129301  0.0652498   0.02547759  0.01914723]]\n",
      "<NDArray 2x10 @cpu(0)>\n",
      "\n",
      "[ 1.          0.99999994]\n",
      "<NDArray 2 @cpu(0)>\n"
     ]
    }
   ],
   "source": [
    "def softmax(y_linear):\n",
    "    exp = nd.exp(y_linear - nd.max(y_linear))\n",
    "    norms = nd.sum(exp,axis=0,exclude=True).reshape((-1,1))\n",
    "    return exp / norms\n",
    "\n",
    "sample_y_linear = nd.random_normal(shape=(2,10))\n",
    "sample_y_that = softmax(sample_y_linear)\n",
    "print(sample_y_that)\n",
    "\n",
    "print(nd.sum(sample_y_that,axis=1))"
   ]
  },
  {
   "cell_type": "code",
   "execution_count": 139,
   "metadata": {},
   "outputs": [
    {
     "name": "stdout",
     "output_type": "stream",
     "text": [
      "\n",
      "[[ 0.  1.  2.]\n",
      " [ 3.  4.  5.]]\n",
      "<NDArray 2x3 @cpu(0)>\n",
      "\n",
      "[ 3.  5.  7.]\n",
      "<NDArray 3 @cpu(0)>\n"
     ]
    },
    {
     "data": {
      "text/plain": [
       "\n",
       "[[  3.]\n",
       " [ 12.]]\n",
       "<NDArray 2x1 @cpu(0)>"
      ]
     },
     "execution_count": 139,
     "metadata": {},
     "output_type": "execute_result"
    }
   ],
   "source": [
    "#sum ex\n",
    "ndarray = nd.arange(6).reshape((2,3))\n",
    "print(ndarray)\n",
    "\n",
    "print(nd.sum(ndarray,axis=0))\n",
    "\n",
    "#nd.sum(ndarray,axis=1).reshape((-1,1))\n",
    "# exclude 让 axis =1变成 axis =0\n",
    "nd.sum(ndarray,axis=0,exclude=True).reshape((-1,1))"
   ]
  },
  {
   "cell_type": "markdown",
   "metadata": {},
   "source": [
    "# Define the model"
   ]
  },
  {
   "cell_type": "code",
   "execution_count": 175,
   "metadata": {},
   "outputs": [],
   "source": [
    "def net(X):\n",
    "    y_linear = nd.dot(X, W) + b\n",
    "    yhat = softmax(y_linear)\n",
    "    \n",
    "    return yhat"
   ]
  },
  {
   "cell_type": "code",
   "execution_count": 177,
   "metadata": {},
   "outputs": [
    {
     "name": "stdout",
     "output_type": "stream",
     "text": [
      "(64, 784)\n",
      "(784, 10)\n",
      "(64, 10)\n"
     ]
    },
    {
     "data": {
      "text/plain": [
       "'\\nfor i,(data,label) in enumerate(train_data):\\n        data = data.as_in_context(ctx).reshape((-1,784))\\n        net(data)\\n        break\\n'"
      ]
     },
     "execution_count": 177,
     "metadata": {},
     "output_type": "execute_result"
    }
   ],
   "source": [
    "for i,(data,label) in enumerate(train_data):\n",
    "    data = data.as_in_context(ctx).reshape((-1,784))\n",
    "    print(data.shape)\n",
    "    print(W.shape)\n",
    "    y_res = nd.dot(data, W) \n",
    "    print(y_res.shape)\n",
    "    break\n",
    "\n",
    "'''\n",
    "for i,(data,label) in enumerate(train_data):\n",
    "        data = data.as_in_context(ctx).reshape((-1,784))\n",
    "        net(data)\n",
    "        break\n",
    "'''"
   ]
  },
  {
   "cell_type": "code",
   "execution_count": 83,
   "metadata": {},
   "outputs": [
    {
     "name": "stdout",
     "output_type": "stream",
     "text": [
      "\n",
      "[ 1.  2.]\n",
      "<NDArray 2 @cpu(0)>\n",
      "\n",
      "[[ 3.]\n",
      " [ 4.]]\n",
      "<NDArray 2x1 @cpu(0)>\n"
     ]
    },
    {
     "data": {
      "text/plain": [
       "\n",
       "[ 11.]\n",
       "<NDArray 1 @cpu(0)>"
      ]
     },
     "execution_count": 83,
     "metadata": {},
     "output_type": "execute_result"
    }
   ],
   "source": [
    "W1 = nd.array([1,2])\n",
    "X1 = nd.array([[3],[4]])\n",
    "print(W1)\n",
    "print(X1)\n",
    "#nd.dot(X,W)  --error\n",
    "nd.dot(W1,X1)\n",
    "\n"
   ]
  },
  {
   "cell_type": "markdown",
   "metadata": {},
   "source": [
    "# Define the cross-entropy function\n",
    "\n",
    "[关于交叉熵的详细讲解](http://blog.csdn.net/rtygbwwwerr/article/details/50778098)"
   ]
  },
  {
   "cell_type": "code",
   "execution_count": 183,
   "metadata": {
    "collapsed": true
   },
   "outputs": [],
   "source": [
    "\n",
    "def crosss_entroy(yhat,y):\n",
    "    return -nd.sum(y * nd.log(yhat),axis=0,exclude=True)\n"
   ]
  },
  {
   "cell_type": "markdown",
   "metadata": {},
   "source": [
    "# Optimizer"
   ]
  },
  {
   "cell_type": "code",
   "execution_count": 179,
   "metadata": {
    "collapsed": true
   },
   "outputs": [],
   "source": [
    "def SGD(params,lr):\n",
    "    for param in params:\n",
    "        param[:] = param - lr * param.grad"
   ]
  },
  {
   "cell_type": "markdown",
   "metadata": {},
   "source": [
    "# Write the evaluation loop to calculate accuracy "
   ]
  },
  {
   "cell_type": "markdown",
   "metadata": {},
   "source": [
    "[one hot 详细讲解](https://yq.aliyun.com/articles/126741)"
   ]
  },
  {
   "cell_type": "code",
   "execution_count": 180,
   "metadata": {},
   "outputs": [],
   "source": [
    "def evaluate_accuracy(data_iterator,net):\n",
    "    numerator = 0\n",
    "    denominator = 0\n",
    "    for i,(data,label) in enumerate(data_iterator):\n",
    "        data = data.as_in_context(ctx).reshape((-1,784))\n",
    "        label = label.as_in_context(ctx)\n",
    "        label_one_hot = nd.one_hot(label,10)\n",
    "        output = net(data)\n",
    "        predictions = nd.argmax(output,axis=1)\n",
    "        numerator += nd.sum(predictions == label)\n",
    "        denominator += data.shape[0]\n",
    "        \n",
    "    return (numerator / denominator).asscalar()\n",
    "\n",
    "#evaluate_accuracy(test_data,net)"
   ]
  },
  {
   "cell_type": "code",
   "execution_count": 181,
   "metadata": {
    "scrolled": true
   },
   "outputs": [
    {
     "name": "stdout",
     "output_type": "stream",
     "text": [
      "<class 'mxnet.ndarray.ndarray.NDArray'>\n",
      "(64, 784)\n",
      "(64,)\n",
      "(64, 10)\n"
     ]
    }
   ],
   "source": [
    "for i,(data,label) in enumerate(test_data):\n",
    "    data = data.reshape((-1,784))\n",
    "    print(type(data))\n",
    "    print(data.shape)\n",
    "    print(label.shape)\n",
    "    \n",
    "    #one_hot \n",
    "    label_one_hot = nd.one_hot(label,10)\n",
    "    print(label_one_hot.shape)\n",
    "    break\n",
    "    "
   ]
  },
  {
   "cell_type": "markdown",
   "metadata": {},
   "source": [
    "# Execute training loop"
   ]
  },
  {
   "cell_type": "code",
   "execution_count": 185,
   "metadata": {},
   "outputs": [
    {
     "name": "stdout",
     "output_type": "stream",
     "text": [
      "Epoch 0. Loss: 0.960755664217, Train_acc 0.812667, Test_acc 0.8173\n",
      "Epoch 1. Loss: 0.803973543784, Train_acc 0.83525, Test_acc 0.8385\n",
      "Epoch 2. Loss: 0.671597127549, Train_acc 0.84885, Test_acc 0.8515\n",
      "Epoch 3. Loss: 0.634403980183, Train_acc 0.858017, Test_acc 0.8596\n",
      "Epoch 4. Loss: 0.605101995557, Train_acc 0.864617, Test_acc 0.8668\n",
      "Epoch 5. Loss: 0.611256889219, Train_acc 0.870583, Test_acc 0.8719\n",
      "Epoch 6. Loss: 0.558236088567, Train_acc 0.8747, Test_acc 0.8752\n",
      "Epoch 7. Loss: 0.533684758549, Train_acc 0.877067, Test_acc 0.8777\n",
      "Epoch 8. Loss: 0.536125441894, Train_acc 0.880567, Test_acc 0.8801\n",
      "Epoch 9. Loss: 0.487528433936, Train_acc 0.884117, Test_acc 0.8828\n"
     ]
    }
   ],
   "source": [
    "epochs = 10\n",
    "moving_loss = 0.\n",
    "learning_rate = .001\n",
    "smoothing_constant = .01\n",
    "niter=0\n",
    "\n",
    "\n",
    "for e in range(epochs):\n",
    "    for i,(data,label) in enumerate(train_data):\n",
    "        data = data.as_in_context(ctx).reshape((-1,784))\n",
    "        label = label.as_in_context(ctx)\n",
    "        label_one_hot = nd.one_hot(label,10)\n",
    "        with autograd.record():\n",
    "            output = net(data)\n",
    "            loss = crosss_entroy(output,label_one_hot)\n",
    "            \n",
    "        loss.backward()\n",
    "        SGD(params,learning_rate)\n",
    "        \n",
    "        niter +=1\n",
    "        moving_loss = (1 - smoothing_constant) * moving_loss + (smoothing_constant) * nd.mean(loss).asscalar()\n",
    "        est_loss = moving_loss/(1-(1-smoothing_constant)**niter)\n",
    "        \n",
    "    test_accuracy = evaluate_accuracy(test_data,net)\n",
    "    train_accuracy = evaluate_accuracy(train_data,net)\n",
    "    print(\"Epoch %s. Loss: %s, Train_acc %s, Test_acc %s\" % (e, est_loss, train_accuracy, test_accuracy))    \n",
    "        \n",
    "    "
   ]
  },
  {
   "cell_type": "markdown",
   "metadata": {},
   "source": [
    "# Using the model for prediction "
   ]
  },
  {
   "cell_type": "code",
   "execution_count": 187,
   "metadata": {},
   "outputs": [
    {
     "name": "stdout",
     "output_type": "stream",
     "text": [
      "(10, 28, 28, 1)\n"
     ]
    },
    {
     "data": {
      "image/png": "[encoded data removed]",
      "text/plain": [
       "<matplotlib.figure.Figure at 0x124414a8>"
      ]
     },
     "metadata": {},
     "output_type": "display_data"
    },
    {
     "name": "stdout",
     "output_type": "stream",
     "text": [
      "model predictions are: \n",
      "[ 1.  9.  9.  4.  2.  4.  7.  1.  6.  1.]\n",
      "<NDArray 10 @cpu(0)>\n"
     ]
    }
   ],
   "source": [
    "def model_predict(net,data):\n",
    "    output = net(data)\n",
    "    return nd.argmax(output,axis=1)\n",
    "\n",
    "sample_data = mx.gluon.data.DataLoader(mnist_test, 10, shuffle=True)\n",
    "for i, (data, label) in enumerate(sample_data):\n",
    "    data = data.as_in_context(ctx)\n",
    "    print(data.shape)\n",
    "    im = nd.transpose(data,(1,0,2,3))\n",
    "    im = nd.reshape(im,(28,10*28,1))\n",
    "    imtiles = nd.tile(im, (1,1,3))\n",
    "    \n",
    "    plt.imshow(imtiles.asnumpy())\n",
    "    plt.show()\n",
    "    pred=model_predict(net,data.reshape((-1,784)))\n",
    "    print('model predictions are:', pred)\n",
    "    break\n",
    "    "
   ]
  },
  {
   "cell_type": "code",
   "execution_count": null,
   "metadata": {
    "collapsed": true
   },
   "outputs": [],
   "source": []
  }
 ],
 "metadata": {
  "kernelspec": {
   "display_name": "Python 3",
   "language": "python",
   "name": "python3"
  },
  "language_info": {
   "codemirror_mode": {
    "name": "ipython",
    "version": 3
   },
   "file_extension": ".py",
   "mimetype": "text/x-python",
   "name": "python",
   "nbconvert_exporter": "python",
   "pygments_lexer": "ipython3",
   "version": "3.6.3"
  }
 },
 "nbformat": 4,
 "nbformat_minor": 2
}
